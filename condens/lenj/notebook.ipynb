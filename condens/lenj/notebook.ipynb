{
 "cells": [
  {
   "cell_type": "code",
   "execution_count": 7,
   "id": "5a737fcb",
   "metadata": {},
   "outputs": [],
   "source": [
    "from main import MD"
   ]
  },
  {
   "cell_type": "code",
   "execution_count": null,
   "id": "7d96d25c",
   "metadata": {},
   "outputs": [],
   "source": []
  },
  {
   "cell_type": "code",
   "execution_count": 8,
   "id": "bd9fff9e",
   "metadata": {},
   "outputs": [],
   "source": [
    "sigma = 1\n",
    "epsilon = 1\n",
    "m = 1\n",
    "\n",
    "delta_t = 0.005\n",
    "L = 10"
   ]
  },
  {
   "cell_type": "code",
   "execution_count": 9,
   "id": "d2692366",
   "metadata": {},
   "outputs": [],
   "source": [
    "MD = MD(sigma, m, epsilon, delta_t, L)"
   ]
  },
  {
   "cell_type": "code",
   "execution_count": 10,
   "id": "2cdce2ab",
   "metadata": {},
   "outputs": [],
   "source": [
    "MD.setup()"
   ]
  },
  {
   "cell_type": "code",
   "execution_count": 11,
   "id": "13b5059a",
   "metadata": {},
   "outputs": [
    {
     "name": "stdout",
     "output_type": "stream",
     "text": [
      "1000\n"
     ]
    }
   ],
   "source": [
    "print(len(MD.particles))"
   ]
  },
  {
   "cell_type": "code",
   "execution_count": 12,
   "id": "1c51faed",
   "metadata": {},
   "outputs": [
    {
     "name": "stderr",
     "output_type": "stream",
     "text": [
      "100%|██████████| 70/70 [02:48<00:00,  2.40s/it]\n"
     ]
    }
   ],
   "source": [
    "MD.start(70, write_video=True, test=False)"
   ]
  },
  {
   "cell_type": "code",
   "execution_count": 24,
   "id": "787afdfe",
   "metadata": {},
   "outputs": [],
   "source": [
    "def sort_func(filename):\n",
    "    name = filename.split(\".\")[0]\n",
    "    return int(name[3:])"
   ]
  },
  {
   "cell_type": "code",
   "execution_count": 25,
   "id": "d7f93578",
   "metadata": {},
   "outputs": [
    {
     "name": "stdout",
     "output_type": "stream",
     "text": [
      "['fig0.png', 'fig1.png', 'fig10.png', 'fig11.png', 'fig12.png', 'fig13.png', 'fig14.png', 'fig15.png', 'fig16.png', 'fig17.png', 'fig18.png', 'fig19.png', 'fig2.png', 'fig20.png', 'fig21.png', 'fig22.png', 'fig23.png', 'fig24.png', 'fig25.png', 'fig26.png', 'fig27.png', 'fig28.png', 'fig29.png', 'fig3.png', 'fig30.png', 'fig31.png', 'fig32.png', 'fig33.png', 'fig34.png', 'fig35.png', 'fig36.png', 'fig37.png', 'fig38.png', 'fig39.png', 'fig4.png', 'fig40.png', 'fig41.png', 'fig42.png', 'fig43.png', 'fig44.png', 'fig45.png', 'fig46.png', 'fig47.png', 'fig48.png', 'fig49.png', 'fig5.png', 'fig50.png', 'fig51.png', 'fig52.png', 'fig53.png', 'fig54.png', 'fig55.png', 'fig56.png', 'fig57.png', 'fig58.png', 'fig59.png', 'fig6.png', 'fig60.png', 'fig61.png', 'fig62.png', 'fig63.png', 'fig64.png', 'fig65.png', 'fig66.png', 'fig67.png', 'fig68.png', 'fig69.png', 'fig7.png', 'fig70.png', 'fig71.png', 'fig72.png', 'fig73.png', 'fig74.png', 'fig75.png', 'fig76.png', 'fig77.png', 'fig78.png', 'fig79.png', 'fig8.png', 'fig80.png', 'fig81.png', 'fig9.png']\n",
      "['fig0.png', 'fig1.png', 'fig2.png', 'fig3.png', 'fig4.png', 'fig5.png', 'fig6.png', 'fig7.png', 'fig8.png', 'fig9.png', 'fig10.png', 'fig11.png', 'fig12.png', 'fig13.png', 'fig14.png', 'fig15.png', 'fig16.png', 'fig17.png', 'fig18.png', 'fig19.png', 'fig20.png', 'fig21.png', 'fig22.png', 'fig23.png', 'fig24.png', 'fig25.png', 'fig26.png', 'fig27.png', 'fig28.png', 'fig29.png', 'fig30.png', 'fig31.png', 'fig32.png', 'fig33.png', 'fig34.png', 'fig35.png', 'fig36.png', 'fig37.png', 'fig38.png', 'fig39.png', 'fig40.png', 'fig41.png', 'fig42.png', 'fig43.png', 'fig44.png', 'fig45.png', 'fig46.png', 'fig47.png', 'fig48.png', 'fig49.png', 'fig50.png', 'fig51.png', 'fig52.png', 'fig53.png', 'fig54.png', 'fig55.png', 'fig56.png', 'fig57.png', 'fig58.png', 'fig59.png', 'fig60.png', 'fig61.png', 'fig62.png', 'fig63.png', 'fig64.png', 'fig65.png', 'fig66.png', 'fig67.png', 'fig68.png', 'fig69.png', 'fig70.png', 'fig71.png', 'fig72.png', 'fig73.png', 'fig74.png', 'fig75.png', 'fig76.png', 'fig77.png', 'fig78.png', 'fig79.png', 'fig80.png', 'fig81.png']\n",
      "82\n"
     ]
    }
   ],
   "source": [
    "import cv2\n",
    "import os\n",
    "\n",
    "image_folder = 'figures'\n",
    "video_name = 'video.avi'\n",
    "\n",
    "images = sorted([img for img in os.listdir(image_folder) if img.endswith(\".png\")])\n",
    "print(images)\n",
    "images.sort(key=sort_func)\n",
    "print(images)\n",
    "print(len(images))\n",
    "frame = cv2.imread(os.path.join(image_folder, images[0]))\n",
    "height, width, layers = frame.shape\n",
    "\n",
    "video = cv2.VideoWriter(video_name, 0, 1, (width,height))\n",
    "\n",
    "for image in images:\n",
    "    video.write(cv2.imread(os.path.join(image_folder, image)))\n",
    "\n",
    "cv2.destroyAllWindows()\n",
    "video.release()"
   ]
  },
  {
   "cell_type": "code",
   "execution_count": null,
   "id": "887aff22",
   "metadata": {},
   "outputs": [],
   "source": []
  }
 ],
 "metadata": {
  "kernelspec": {
   "display_name": "Python 3",
   "language": "python",
   "name": "python3"
  },
  "language_info": {
   "codemirror_mode": {
    "name": "ipython",
    "version": 3
   },
   "file_extension": ".py",
   "mimetype": "text/x-python",
   "name": "python",
   "nbconvert_exporter": "python",
   "pygments_lexer": "ipython3",
   "version": "3.8.5"
  }
 },
 "nbformat": 4,
 "nbformat_minor": 5
}
