{
 "cells": [
  {
   "cell_type": "code",
   "execution_count": null,
   "id": "314d6c3d",
   "metadata": {},
   "outputs": [],
   "source": [
    "import numpy as np\n",
    "import random\n",
    "import copy\n",
    "from tqdm.notebook import tqdm\n",
    "import matplotlib.pyplot as plt\n",
    "import time\n",
    "import plotly.express as px"
   ]
  },
  {
   "cell_type": "code",
   "execution_count": null,
   "id": "fb339184",
   "metadata": {},
   "outputs": [],
   "source": [
    "def generate_grid(n, dim=3):\n",
    "    spin_map = np.vectorize(lambda x: 1 if x >= 0.5 else -1)\n",
    "    spins = spin_map(np.random.rand((n)**dim))\n",
    "    grid = np.array([[x, y, z] for x in range(n) for y in range(n) for z in range(n)])\n",
    "    \n",
    "    return spins, grid"
   ]
  },
  {
   "cell_type": "code",
   "execution_count": null,
   "id": "6910d473",
   "metadata": {},
   "outputs": [],
   "source": [
    "def get_spin(spins, coords, n):\n",
    "    #x, y, z = coords\n",
    "    return spins[coords[0]*(n**2) + coords[1]*(n**1) + coords[2]*1]"
   ]
  },
  {
   "cell_type": "code",
   "execution_count": null,
   "id": "afcf990b",
   "metadata": {},
   "outputs": [],
   "source": [
    "def get_neighbours_coords(coords, n):\n",
    "    x, y, z = coords        \n",
    "    newx, newy, newz = [(x-1) % n, (x+1) % n], [(y-1) % n, (y+1) % n], [(z-1) % n, (z+1) % n]\n",
    "        \n",
    "    xs = newx + 4*[x]\n",
    "    ys = 2*[y] + newy + 2*[y]\n",
    "    zs = 4*[z] + newz\n",
    "    neighbours_coords = [[xi, yi, zi] for xi, yi, zi in zip(xs, ys, zs)]\n",
    "    \n",
    "    return neighbours_coords"
   ]
  },
  {
   "cell_type": "code",
   "execution_count": null,
   "id": "8f9a94f6",
   "metadata": {},
   "outputs": [],
   "source": [
    "def total_magnetization(spins):\n",
    "    return sum(spins)"
   ]
  },
  {
   "cell_type": "code",
   "execution_count": null,
   "id": "cb27de67",
   "metadata": {},
   "outputs": [],
   "source": [
    "def energy(spins, coords, J, n):\n",
    "    neighbours_coords = get_neighbours_coords(coords, n)\n",
    "    neighbours_spins = [get_spin(spins, c, n) for c in neighbours_coords]\n",
    "    chosen_spin = get_spin(spins, coords, n)\n",
    "    E = -J * sum(neighbours_spins) * chosen_spin\n",
    "    \n",
    "    return E"
   ]
  },
  {
   "cell_type": "code",
   "execution_count": null,
   "id": "27d3d467",
   "metadata": {},
   "outputs": [],
   "source": [
    "def metropolis(grid, spins, J, n, T, iters):\n",
    "    beta = 1/T\n",
    "    \n",
    "    for _ in range(iters):\n",
    "        # 1. choose a random spin\n",
    "        rand_spin_index = random.choice(range(len(spins)))\n",
    "        coords = grid[rand_spin_index]\n",
    "\n",
    "        # 2. calculate its energy\n",
    "        e_old = energy(spins, coords, J, n)\n",
    "\n",
    "        # 3. flip it and calculate new energy\n",
    "        e_new = e_old * -1\n",
    "\n",
    "        # 4. choose what to do with the spin\n",
    "        # if e_delta < 0, keep the flipped value\n",
    "        if e_new <= e_old:\n",
    "            spins[rand_spin_index] *= -1\n",
    "        # else keep with probability p=exp(-beta * e_delta)\n",
    "        else:\n",
    "            p = np.exp(-beta * (e_new - e_old))\n",
    "            if np.random.rand() < p:\n",
    "                #print(p)\n",
    "                spins[rand_spin_index] *= -1\n",
    "    \n",
    "    M = total_magnetization(spins)\n",
    "\n",
    "    return M"
   ]
  },
  {
   "cell_type": "code",
   "execution_count": null,
   "id": "fc16546c",
   "metadata": {},
   "outputs": [],
   "source": [
    "def mc_simulation(grid, spins, J, n, temperatures, iters):\n",
    "    Ms, ms = [], []\n",
    "    spins_history = []\n",
    "    \n",
    "    for t in tqdm(temperatures):\n",
    "        print(f\"MONTE CARLO SIMULATION FOR T = {t}\")\n",
    "        Ms_t, ms_t, spins_t = [], [], []\n",
    "        \n",
    "        for it in tqdm(range(iters)):\n",
    "            M = metropolis(grid, spins, J, n, t, iters=len(spins))\n",
    "            m = M / len(spins)\n",
    "            Ms_t.append(M)\n",
    "            ms_t.append(m)\n",
    "            if t in [temperatures[0], temperatures[-1]]:\n",
    "                spins_t.append(copy.deepcopy(spins))\n",
    "        \n",
    "        Ms.append(Ms_t)\n",
    "        ms.append(ms_t)\n",
    "        spins_history.append(spins_t)\n",
    "\n",
    "    return Ms, ms, spins_history"
   ]
  },
  {
   "cell_type": "code",
   "execution_count": null,
   "id": "035b6265",
   "metadata": {},
   "outputs": [],
   "source": [
    "dim = 3\n",
    "N = 20 # go 20\n",
    "spins, grid = generate_grid(N, dim=dim)"
   ]
  },
  {
   "cell_type": "code",
   "execution_count": null,
   "id": "8b1f9564",
   "metadata": {},
   "outputs": [],
   "source": [
    "colors = np.vectorize(lambda x: 'spin UP' if x > 0 else 'spin DOWN')(spins)\n",
    "colors_map = {'spin UP' : 'green', 'spin DOWN' : 'red'}\n",
    "\n",
    "fig = px.scatter_3d(x=grid[:, 0], y=grid[:, 1], z=grid[:, 2], color=colors,\n",
    "                   color_discrete_map = colors_map)\n",
    "fig.update_traces(marker_size=1)\n",
    "fig.show()"
   ]
  },
  {
   "cell_type": "code",
   "execution_count": null,
   "id": "160f9997",
   "metadata": {
    "scrolled": false
   },
   "outputs": [],
   "source": [
    "J = 1\n",
    "temperatures = [x / 2 for x in range(1, 11)]\n",
    "#temperatures = list(range(5))\n",
    "mc_iters = 500\n",
    "Ms, ms, spins_history = mc_simulation(grid, spins, J, N, temperatures, mc_iters)"
   ]
  },
  {
   "cell_type": "markdown",
   "id": "d28ead01",
   "metadata": {},
   "source": [
    "### Графік поведінки М від часу"
   ]
  },
  {
   "cell_type": "code",
   "execution_count": null,
   "id": "5f35ad13",
   "metadata": {},
   "outputs": [],
   "source": [
    "for i in range(len(temperatures)):\n",
    "    t = temperatures[i]\n",
    "    \n",
    "    fs = 18\n",
    "    \n",
    "    plt.figure(figsize=(8, 8), dpi=80)\n",
    "    plt.scatter(list(range(mc_iters)), Ms[i])\n",
    "    plt.title(f\"Temperature = {t}\", fontsize=fs)\n",
    "    plt.xlabel(\"Iterations\", fontsize=fs)\n",
    "    plt.ylabel(\"Magnetization\", fontsize=fs)\n",
    "    plt.savefig(f'plots/M_t{t}.png', dpi='figure', facecolor=\"#999999\")"
   ]
  },
  {
   "cell_type": "markdown",
   "id": "ce04812d",
   "metadata": {},
   "source": [
    "### Графік  \\<M\\> від температури"
   ]
  },
  {
   "cell_type": "code",
   "execution_count": null,
   "id": "9455f5bf",
   "metadata": {},
   "outputs": [],
   "source": [
    "print(np.array(ms).mean(axis=1))"
   ]
  },
  {
   "cell_type": "code",
   "execution_count": null,
   "id": "21e31961",
   "metadata": {},
   "outputs": [],
   "source": [
    "ms_means = np.array(ms).mean(axis=1)\n",
    "\n",
    "fs = 16\n",
    "\n",
    "plt.figure(figsize=(8, 8), dpi=80)\n",
    "plt.scatter(temperatures, ms_means)\n",
    "plt.xlabel(\"Temperature\", fontsize=fs)\n",
    "\n",
    "plt.ylabel(\"Magnetization per site\", fontsize=fs)\n",
    "plt.savefig(f'plots/m_temp.png', dpi='figure', facecolor=\"#999999\")"
   ]
  },
  {
   "cell_type": "code",
   "execution_count": null,
   "id": "7827d8e5",
   "metadata": {},
   "outputs": [],
   "source": []
  },
  {
   "cell_type": "code",
   "execution_count": null,
   "id": "28b8fd56",
   "metadata": {},
   "outputs": [],
   "source": []
  },
  {
   "cell_type": "markdown",
   "id": "35f65ec8",
   "metadata": {},
   "source": [
    "### Неважливо"
   ]
  },
  {
   "cell_type": "code",
   "execution_count": null,
   "id": "16fd367e",
   "metadata": {
    "scrolled": true
   },
   "outputs": [],
   "source": [
    "colors = np.vectorize(lambda x: 'spin UP' if x > 0 else 'spin DOWN')(spins)\n",
    "colors_map = {'spin UP' : 'green', 'spin DOWN' : 'red'}\n",
    "\n",
    "fig = px.scatter_3d(x=grid[:, 0], y=grid[:, 1], z=grid[:, 2],\n",
    "                    color=colors, color_discrete_map = colors_map)\n",
    "fig.update_traces(marker_size=1.7)\n",
    "fig.show()"
   ]
  },
  {
   "cell_type": "code",
   "execution_count": null,
   "id": "14571ff7",
   "metadata": {},
   "outputs": [],
   "source": [
    "import uuid\n",
    "import cv2\n",
    "import os\n",
    "\n",
    "\n",
    "savepath = \"/home/jjnkn/UCU/condens/ising/images/\"\n",
    "video_name = 'animation.avi'\n",
    "\n",
    "def create_video(video_name, spins_history, video_length=15, title=\"\"):\n",
    "    \n",
    "    video = cv2.VideoWriter(video_name, 0, int(len(spins_history) / video_length), (700,500))\n",
    "    \n",
    "    print(\"creating video...\")\n",
    "    start = time.time()\n",
    "    for s in tqdm(spins_history):\n",
    "        colors = np.vectorize(\n",
    "                lambda x: 'spin UP' if x > 0 else 'spin DOWN'\n",
    "            )(s)\n",
    "        fig = px.scatter_3d(x=grid[:, 0], y=grid[:, 1], z=grid[:, 2], color=colors,\n",
    "                       color_discrete_map = colors_map)\n",
    "        fig.update_traces(marker_size=3)\n",
    "\n",
    "        fig_img = fig.to_image()\n",
    "        nparr = np.frombuffer(fig_img, np.uint8)\n",
    "\n",
    "        frame = cv2.imdecode(nparr, cv2.IMREAD_COLOR)\n",
    "\n",
    "        video.write(frame)\n",
    "\n",
    "    print(f\"it took: {time.time() - start}\")\n",
    "    cv2.destroyAllWindows()\n",
    "    video.release()"
   ]
  },
  {
   "cell_type": "code",
   "execution_count": null,
   "id": "24080360",
   "metadata": {},
   "outputs": [],
   "source": [
    "create_video(\"animated-tbig.avi\", spins_hist[-1], 15)"
   ]
  },
  {
   "cell_type": "code",
   "execution_count": null,
   "id": "724c579b",
   "metadata": {},
   "outputs": [],
   "source": []
  }
 ],
 "metadata": {
  "kernelspec": {
   "display_name": "Python 3",
   "language": "python",
   "name": "python3"
  },
  "language_info": {
   "codemirror_mode": {
    "name": "ipython",
    "version": 3
   },
   "file_extension": ".py",
   "mimetype": "text/x-python",
   "name": "python",
   "nbconvert_exporter": "python",
   "pygments_lexer": "ipython3",
   "version": "3.8.5"
  }
 },
 "nbformat": 4,
 "nbformat_minor": 5
}
